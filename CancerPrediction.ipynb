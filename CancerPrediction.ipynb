{
  "nbformat": 4,
  "nbformat_minor": 0,
  "metadata": {
    "colab": {
      "provenance": [],
      "include_colab_link": true
    },
    "kernelspec": {
      "name": "python3",
      "display_name": "Python 3"
    },
    "language_info": {
      "name": "python"
    }
  },
  "cells": [
    {
      "cell_type": "markdown",
      "metadata": {
        "id": "view-in-github",
        "colab_type": "text"
      },
      "source": [
        "<a href=\"https://colab.research.google.com/github/FuadAhmed22/My_Portfolio/blob/main/CancerPrediction.ipynb\" target=\"_parent\"><img src=\"https://colab.research.google.com/assets/colab-badge.svg\" alt=\"Open In Colab\"/></a>"
      ]
    },
    {
      "cell_type": "code",
      "execution_count": 3,
      "metadata": {
        "colab": {
          "base_uri": "https://localhost:8080/"
        },
        "id": "DTADfHl682S3",
        "outputId": "c9066223-cb64-4820-fe50-5caa4b444676"
      },
      "outputs": [
        {
          "output_type": "stream",
          "name": "stdout",
          "text": [
            "Collecting pyspark\n",
            "  Downloading pyspark-3.5.0.tar.gz (316.9 MB)\n",
            "\u001b[2K     \u001b[90m━━━━━━━━━━━━━━━━━━━━━━━━━━━━━━━━━━━━━━━━\u001b[0m \u001b[32m316.9/316.9 MB\u001b[0m \u001b[31m4.5 MB/s\u001b[0m eta \u001b[36m0:00:00\u001b[0m\n",
            "\u001b[?25h  Preparing metadata (setup.py) ... \u001b[?25l\u001b[?25hdone\n",
            "Requirement already satisfied: py4j==0.10.9.7 in /usr/local/lib/python3.10/dist-packages (from pyspark) (0.10.9.7)\n",
            "Building wheels for collected packages: pyspark\n",
            "  Building wheel for pyspark (setup.py) ... \u001b[?25l\u001b[?25hdone\n",
            "  Created wheel for pyspark: filename=pyspark-3.5.0-py2.py3-none-any.whl size=317425344 sha256=8b11a600dd79e7c41ef29b15fb67e92ddc4616280a72c9d5daa87d437b6516e5\n",
            "  Stored in directory: /root/.cache/pip/wheels/41/4e/10/c2cf2467f71c678cfc8a6b9ac9241e5e44a01940da8fbb17fc\n",
            "Successfully built pyspark\n",
            "Installing collected packages: pyspark\n",
            "Successfully installed pyspark-3.5.0\n"
          ]
        }
      ],
      "source": [
        "pip install pyspark"
      ]
    },
    {
      "cell_type": "code",
      "source": [
        "from pyspark.sql import SparkSession\n",
        "from pyspark.ml.feature import VectorAssembler, StringIndexer\n",
        "from pyspark.ml import Pipeline\n",
        "from pyspark.ml.classification import RandomForestClassifier\n",
        "from pyspark.ml.evaluation import MulticlassClassificationEvaluator\n"
      ],
      "metadata": {
        "id": "Zv9YcFZ6Ck1J"
      },
      "execution_count": 4,
      "outputs": []
    },
    {
      "cell_type": "code",
      "source": [
        "spark = SparkSession.builder.appName(\"cancer_prediction\").getOrCreate()"
      ],
      "metadata": {
        "id": "_9puDgrACpE-"
      },
      "execution_count": 5,
      "outputs": []
    },
    {
      "cell_type": "code",
      "source": [
        "data = spark.read.csv(\"/content/cancer-patient-data-sets.csv\", header=True, inferSchema=True)"
      ],
      "metadata": {
        "id": "wLalnnSMCsXL"
      },
      "execution_count": 6,
      "outputs": []
    },
    {
      "cell_type": "code",
      "source": [
        "columns_to_drop = [\"index\", \"Patient Id\"]  # Add other columns if needed\n",
        "data = data.drop(*columns_to_drop)"
      ],
      "metadata": {
        "id": "6YI3nFDICzGY"
      },
      "execution_count": 7,
      "outputs": []
    },
    {
      "cell_type": "code",
      "source": [
        "data = data.na.drop()\n",
        "data.show()"
      ],
      "metadata": {
        "colab": {
          "base_uri": "https://localhost:8080/"
        },
        "id": "sv3hkF4IC14k",
        "outputId": "4cdad5b8-df77-4587-c9be-83dd1141eeef"
      },
      "execution_count": 8,
      "outputs": [
        {
          "output_type": "stream",
          "name": "stdout",
          "text": [
            "+---+------+-------------+-----------+------------+--------------------+------------+--------------------+-------------+-------+-------+--------------+----------+-----------------+-------+-----------+-------------------+--------+-------------------+------------------------+-------------+---------+-------+-----+\n",
            "|Age|Gender|Air Pollution|Alcohol use|Dust Allergy|OccuPational Hazards|Genetic Risk|chronic Lung Disease|Balanced Diet|Obesity|Smoking|Passive Smoker|Chest Pain|Coughing of Blood|Fatigue|Weight Loss|Shortness of Breath|Wheezing|Swal0ing Difficulty|Clubbing of Finger Nails|Frequent Cold|Dry Cough|Snoring|Level|\n",
            "+---+------+-------------+-----------+------------+--------------------+------------+--------------------+-------------+-------+-------+--------------+----------+-----------------+-------+-----------+-------------------+--------+-------------------+------------------------+-------------+---------+-------+-----+\n",
            "| 33|     1|            2|          4|           5|                   4|           3|                   2|            2|      4|      3|             2|         2|                4|      3|          4|                  2|       2|                  3|                       1|            2|        3|      4|    0|\n",
            "| 17|     1|            3|          1|           5|                   3|           4|                   2|            2|      2|      2|             4|         2|                3|      1|          3|                  7|       8|                  6|                       2|            1|        7|      2|    1|\n",
            "| 35|     1|            4|          5|           6|                   5|           5|                   4|            6|      7|      2|             3|         4|                8|      8|          7|                  9|       2|                  1|                       4|            6|        7|      2|    2|\n",
            "| 37|     1|            7|          7|           7|                   7|           6|                   7|            7|      7|      7|             7|         7|                8|      4|          2|                  3|       1|                  4|                       5|            6|        7|      5|    2|\n",
            "| 46|     1|            6|          8|           7|                   7|           7|                   6|            7|      7|      8|             7|         7|                9|      3|          2|                  4|       1|                  4|                       2|            4|        2|      3|    2|\n",
            "| 35|     1|            4|          5|           6|                   5|           5|                   4|            6|      7|      2|             3|         4|                8|      8|          7|                  9|       2|                  1|                       4|            6|        7|      2|    2|\n",
            "| 52|     2|            2|          4|           5|                   4|           3|                   2|            2|      4|      3|             2|         2|                4|      3|          4|                  2|       2|                  3|                       1|            2|        3|      4|    0|\n",
            "| 28|     2|            3|          1|           4|                   3|           2|                   3|            4|      3|      1|             4|         3|                1|      3|          2|                  2|       4|                  2|                       2|            3|        4|      3|    0|\n",
            "| 35|     2|            4|          5|           6|                   5|           6|                   5|            5|      5|      6|             6|         6|                5|      1|          4|                  3|       2|                  4|                       6|            2|        4|      1|    1|\n",
            "| 46|     1|            2|          3|           4|                   2|           4|                   3|            3|      3|      2|             3|         4|                4|      1|          2|                  4|       6|                  5|                       4|            2|        1|      5|    1|\n",
            "| 44|     1|            6|          7|           7|                   7|           7|                   6|            7|      7|      7|             8|         7|                7|      5|          3|                  2|       7|                  8|                       2|            4|        5|      3|    2|\n",
            "| 64|     2|            6|          8|           7|                   7|           7|                   6|            7|      7|      7|             8|         7|                7|      9|          6|                  5|       7|                  2|                       4|            3|        1|      4|    2|\n",
            "| 39|     2|            4|          5|           6|                   6|           5|                   4|            6|      6|      6|             6|         6|                6|      5|          3|                  2|       4|                  3|                       1|            7|        5|      6|    1|\n",
            "| 34|     1|            6|          7|           7|                   7|           6|                   7|            7|      7|      7|             7|         7|                8|      4|          2|                  3|       1|                  4|                       5|            6|        7|      5|    2|\n",
            "| 27|     2|            3|          1|           4|                   2|           3|                   2|            3|      3|      2|             2|         4|                2|      2|          2|                  3|       4|                  1|                       5|            2|        6|      2|    0|\n",
            "| 73|     1|            5|          6|           6|                   5|           6|                   5|            6|      5|      8|             5|         5|                5|      4|          3|                  6|       2|                  1|                       2|            1|        6|      2|    1|\n",
            "| 17|     1|            3|          1|           5|                   3|           4|                   2|            2|      2|      2|             4|         2|                3|      1|          3|                  7|       8|                  6|                       2|            1|        7|      2|    1|\n",
            "| 34|     1|            6|          7|           7|                   7|           6|                   7|            7|      7|      7|             7|         7|                8|      4|          2|                  3|       1|                  4|                       5|            6|        7|      5|    2|\n",
            "| 36|     1|            6|          7|           7|                   7|           7|                   7|            6|      7|      7|             7|         7|                7|      8|          5|                  7|       6|                  7|                       8|            7|        6|      2|    2|\n",
            "| 14|     1|            2|          4|           5|                   6|           5|                   5|            4|      6|      5|             4|         6|                5|      5|          3|                  2|       1|                  4|                       7|            2|        1|      6|    1|\n",
            "+---+------+-------------+-----------+------------+--------------------+------------+--------------------+-------------+-------+-------+--------------+----------+-----------------+-------+-----------+-------------------+--------+-------------------+------------------------+-------------+---------+-------+-----+\n",
            "only showing top 20 rows\n",
            "\n"
          ]
        }
      ]
    },
    {
      "cell_type": "code",
      "source": [
        "data.count()"
      ],
      "metadata": {
        "colab": {
          "base_uri": "https://localhost:8080/"
        },
        "id": "s4SNjpfvFQVB",
        "outputId": "de308f39-1bd1-4b2f-84bd-15452cf360fb"
      },
      "execution_count": 9,
      "outputs": [
        {
          "output_type": "execute_result",
          "data": {
            "text/plain": [
              "1000"
            ]
          },
          "metadata": {},
          "execution_count": 9
        }
      ]
    },
    {
      "cell_type": "code",
      "source": [
        "data.printSchema()"
      ],
      "metadata": {
        "colab": {
          "base_uri": "https://localhost:8080/"
        },
        "id": "P_wezpP_Fixw",
        "outputId": "84ea6842-7bf4-49bc-b9f6-b6356807a6b3"
      },
      "execution_count": 10,
      "outputs": [
        {
          "output_type": "stream",
          "name": "stdout",
          "text": [
            "root\n",
            " |-- Age: integer (nullable = true)\n",
            " |-- Gender: integer (nullable = true)\n",
            " |-- Air Pollution: integer (nullable = true)\n",
            " |-- Alcohol use: integer (nullable = true)\n",
            " |-- Dust Allergy: integer (nullable = true)\n",
            " |-- OccuPational Hazards: integer (nullable = true)\n",
            " |-- Genetic Risk: integer (nullable = true)\n",
            " |-- chronic Lung Disease: integer (nullable = true)\n",
            " |-- Balanced Diet: integer (nullable = true)\n",
            " |-- Obesity: integer (nullable = true)\n",
            " |-- Smoking: integer (nullable = true)\n",
            " |-- Passive Smoker: integer (nullable = true)\n",
            " |-- Chest Pain: integer (nullable = true)\n",
            " |-- Coughing of Blood: integer (nullable = true)\n",
            " |-- Fatigue: integer (nullable = true)\n",
            " |-- Weight Loss: integer (nullable = true)\n",
            " |-- Shortness of Breath: integer (nullable = true)\n",
            " |-- Wheezing: integer (nullable = true)\n",
            " |-- Swal0ing Difficulty: integer (nullable = true)\n",
            " |-- Clubbing of Finger Nails: integer (nullable = true)\n",
            " |-- Frequent Cold: integer (nullable = true)\n",
            " |-- Dry Cough: integer (nullable = true)\n",
            " |-- Snoring: integer (nullable = true)\n",
            " |-- Level: integer (nullable = true)\n",
            "\n"
          ]
        }
      ]
    },
    {
      "cell_type": "code",
      "source": [
        "colNames = data.columns\n",
        "colNames"
      ],
      "metadata": {
        "colab": {
          "base_uri": "https://localhost:8080/"
        },
        "id": "zRyzrdinNyLH",
        "outputId": "5b8ede2f-a6b5-4b7f-b9b7-1598a25306fc"
      },
      "execution_count": 11,
      "outputs": [
        {
          "output_type": "execute_result",
          "data": {
            "text/plain": [
              "['Age',\n",
              " 'Gender',\n",
              " 'Air Pollution',\n",
              " 'Alcohol use',\n",
              " 'Dust Allergy',\n",
              " 'OccuPational Hazards',\n",
              " 'Genetic Risk',\n",
              " 'chronic Lung Disease',\n",
              " 'Balanced Diet',\n",
              " 'Obesity',\n",
              " 'Smoking',\n",
              " 'Passive Smoker',\n",
              " 'Chest Pain',\n",
              " 'Coughing of Blood',\n",
              " 'Fatigue',\n",
              " 'Weight Loss',\n",
              " 'Shortness of Breath',\n",
              " 'Wheezing',\n",
              " 'Swal0ing Difficulty',\n",
              " 'Clubbing of Finger Nails',\n",
              " 'Frequent Cold',\n",
              " 'Dry Cough',\n",
              " 'Snoring',\n",
              " 'Level']"
            ]
          },
          "metadata": {},
          "execution_count": 11
        }
      ]
    },
    {
      "cell_type": "code",
      "source": [
        "feature_columns = data.columns[:-1]  # Exclude the label column and other unnecessary columns\n",
        "assembler = VectorAssembler(inputCols=feature_columns, outputCol=\"features\")"
      ],
      "metadata": {
        "id": "FXE1wWqIC_K2"
      },
      "execution_count": 12,
      "outputs": []
    },
    {
      "cell_type": "code",
      "source": [
        "rf = RandomForestClassifier(labelCol=\"Level\", featuresCol=\"features\")\n",
        "\n",
        "# Create a pipeline\n",
        "pipeline = Pipeline(stages=[assembler, rf])"
      ],
      "metadata": {
        "id": "kp9K3NEmWaVS"
      },
      "execution_count": 13,
      "outputs": []
    },
    {
      "cell_type": "code",
      "source": [
        "(training_data, testing_data) = data.randomSplit([0.8, 0.2], seed=42)"
      ],
      "metadata": {
        "id": "4vbVL-62T5-G"
      },
      "execution_count": 14,
      "outputs": []
    },
    {
      "cell_type": "code",
      "source": [
        " model = pipeline.fit(training_data)\n",
        "\n",
        "# Make predictions on the test set\n",
        "predictions = model.transform(testing_data)\n",
        "\n",
        "# Evaluate the model\n",
        "evaluator = MulticlassClassificationEvaluator(labelCol=\"Level\", predictionCol=\"prediction\", metricName=\"accuracy\")\n",
        "accuracy = evaluator.evaluate(predictions)\n",
        "print(\"Accuracy:\", accuracy)"
      ],
      "metadata": {
        "colab": {
          "base_uri": "https://localhost:8080/"
        },
        "id": "Pdd3nGKHFYaY",
        "outputId": "c02a3df8-28d4-4f1b-9cf8-0c95220a1c5d"
      },
      "execution_count": 15,
      "outputs": [
        {
          "output_type": "stream",
          "name": "stdout",
          "text": [
            "Accuracy: 1.0\n"
          ]
        }
      ]
    },
    {
      "cell_type": "code",
      "source": [
        "single_test_data = spark.createDataFrame([(33, 1, 2, 4, 4, 5, 4, 4, 2, 3, 1, 3, 1, 2, 1, 2, 1, 1, 2, 3, 2, 1,2)],\n",
        "                                          [\"Age\", \"Gender\", \"Air Pollution\", \"Alcohol use\", \"Dust Allergy\",\n",
        "                                                  \"OccuPational Hazards\", \"Genetic Risk\", \"chronic Lung Disease\",\n",
        "                                                  \"Balanced Diet\", \"Obesity\", \"Smoking\", \"Passive Smoker\",\n",
        "                                                  \"Chest Pain\", \"Coughing of Blood\", \"Fatigue\", \"Weight Loss\",\n",
        "                                                  \"Shortness of Breath\", \"Wheezing\", \"Swal0ing Difficulty\",\n",
        "                                                  \"Clubbing of Finger Nails\", \"Frequent Cold\", \"Dry Cough\", \"Snoring\"])"
      ],
      "metadata": {
        "id": "zA9BT7yaWqt4"
      },
      "execution_count": 16,
      "outputs": []
    },
    {
      "cell_type": "code",
      "source": [
        "single_test_data.show()"
      ],
      "metadata": {
        "colab": {
          "base_uri": "https://localhost:8080/"
        },
        "id": "1pPiOAiReeXp",
        "outputId": "ee229e32-1d04-4741-e806-12a1fadc77dd"
      },
      "execution_count": 17,
      "outputs": [
        {
          "output_type": "stream",
          "name": "stdout",
          "text": [
            "+---+------+-------------+-----------+------------+--------------------+------------+--------------------+-------------+-------+-------+--------------+----------+-----------------+-------+-----------+-------------------+--------+-------------------+------------------------+-------------+---------+-------+\n",
            "|Age|Gender|Air Pollution|Alcohol use|Dust Allergy|OccuPational Hazards|Genetic Risk|chronic Lung Disease|Balanced Diet|Obesity|Smoking|Passive Smoker|Chest Pain|Coughing of Blood|Fatigue|Weight Loss|Shortness of Breath|Wheezing|Swal0ing Difficulty|Clubbing of Finger Nails|Frequent Cold|Dry Cough|Snoring|\n",
            "+---+------+-------------+-----------+------------+--------------------+------------+--------------------+-------------+-------+-------+--------------+----------+-----------------+-------+-----------+-------------------+--------+-------------------+------------------------+-------------+---------+-------+\n",
            "| 33|     1|            2|          4|           4|                   5|           4|                   4|            2|      3|      1|             3|         1|                2|      1|          2|                  1|       1|                  2|                       3|            2|        1|      2|\n",
            "+---+------+-------------+-----------+------------+--------------------+------------+--------------------+-------------+-------+-------+--------------+----------+-----------------+-------+-----------+-------------------+--------+-------------------+------------------------+-------------+---------+-------+\n",
            "\n"
          ]
        }
      ]
    },
    {
      "cell_type": "code",
      "source": [
        "feature_columns = single_test_data.columns"
      ],
      "metadata": {
        "id": "gwjnaJuRFfoq"
      },
      "execution_count": 18,
      "outputs": []
    },
    {
      "cell_type": "code",
      "source": [
        "assembler = VectorAssembler(inputCols=feature_columns, outputCol=\"features_vector\")\n",
        "single_test_data = assembler.transform(single_test_data)\n"
      ],
      "metadata": {
        "id": "fvruYkmPFhy1"
      },
      "execution_count": 19,
      "outputs": []
    },
    {
      "cell_type": "code",
      "source": [
        "prediction = model.transform(single_test_data)"
      ],
      "metadata": {
        "id": "2AmyEDaEamIL"
      },
      "execution_count": 20,
      "outputs": []
    },
    {
      "cell_type": "code",
      "source": [
        "predicted_level = prediction.select(\"prediction\").collect()[0][0]\n",
        "print(\"Predicted Level:\", predicted_level)"
      ],
      "metadata": {
        "colab": {
          "base_uri": "https://localhost:8080/"
        },
        "id": "hfBugdf9eOaR",
        "outputId": "b055ad60-4f9f-4321-b649-47f592b0c593"
      },
      "execution_count": 21,
      "outputs": [
        {
          "output_type": "stream",
          "name": "stdout",
          "text": [
            "Predicted Level: 0.0\n"
          ]
        }
      ]
    }
  ]
}